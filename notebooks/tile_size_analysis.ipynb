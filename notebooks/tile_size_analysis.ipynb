{
 "cells": [
  {
   "cell_type": "code",
   "execution_count": 1,
   "id": "12165c9c",
   "metadata": {},
   "outputs": [],
   "source": [
    "import os\n",
    "import sys\n",
    "\n",
    "import pandas as pd\n",
    "import numpy as np\n",
    "\n",
    "from sklearn.model_selection import train_test_split\n",
    "from sklearn.ensemble import RandomForestClassifier\n",
    "from sklearn.linear_model import LinearRegression\n",
    "from sklearn.preprocessing import StandardScaler\n",
    "from sklearn import metrics\n",
    "from sklearn.metrics import mean_squared_error, r2_score\n",
    "from sklearn import svm\n",
    "from sklearn.neural_network import MLPClassifier\n",
    "\n",
    "import seaborn as sns\n",
    "import matplotlib.pyplot as plt"
   ]
  },
  {
   "cell_type": "markdown",
   "id": "8e71889f",
   "metadata": {},
   "source": [
    "## Process data"
   ]
  },
  {
   "cell_type": "code",
   "execution_count": 2,
   "id": "a3364e17",
   "metadata": {},
   "outputs": [
    {
     "name": "stdout",
     "output_type": "stream",
     "text": [
      "../tiled_polybench/features.csv\n",
      "../tiled_polybench/runtimes.csv\n",
      "../tiled_polybench_lin_alg/features.csv\n",
      "../tiled_polybench_lin_alg/runtimes.csv\n"
     ]
    }
   ],
   "source": [
    "!ls ../tiled_polybench/features.csv\n",
    "!ls ../tiled_polybench/runtimes.csv\n",
    "!ls ../tiled_polybench_lin_alg/features.csv\n",
    "!ls ../tiled_polybench_lin_alg/runtimes.csv"
   ]
  },
  {
   "cell_type": "code",
   "execution_count": 3,
   "id": "27d10418",
   "metadata": {},
   "outputs": [
    {
     "name": "stdout",
     "output_type": "stream",
     "text": [
      "<class 'pandas.core.frame.DataFrame'>\n",
      "RangeIndex: 1512 entries, 0 to 1511\n",
      "Data columns (total 5 columns):\n",
      " #   Column          Non-Null Count  Dtype  \n",
      "---  ------          --------------  -----  \n",
      " 0   uniqueFilename  1512 non-null   object \n",
      " 1   run1            1512 non-null   float64\n",
      " 2   run2            1512 non-null   float64\n",
      " 3   run3            1512 non-null   float64\n",
      " 4   run4            1512 non-null   float64\n",
      "dtypes: float64(4), object(1)\n",
      "memory usage: 59.2+ KB\n",
      "<class 'pandas.core.frame.DataFrame'>\n",
      "RangeIndex: 1680 entries, 0 to 1679\n",
      "Data columns (total 10 columns):\n",
      " #   Column                Non-Null Count  Dtype \n",
      "---  ------                --------------  ----- \n",
      " 0   uniqueFilename        1680 non-null   object\n",
      " 1   rootFilename          1680 non-null   object\n",
      " 2   tileSize              1680 non-null   int64 \n",
      " 3   readInvariant         1680 non-null   int64 \n",
      " 4   readPrefetched        1680 non-null   int64 \n",
      " 5   readNonPrefetched     1680 non-null   int64 \n",
      " 6   writeInvariant        1680 non-null   int64 \n",
      " 7   writePrefetched       1680 non-null   int64 \n",
      " 8   writeNonPrefetched    1680 non-null   int64 \n",
      " 9   distToDominatingLoop  1680 non-null   int64 \n",
      "dtypes: int64(8), object(2)\n",
      "memory usage: 131.4+ KB\n"
     ]
    }
   ],
   "source": [
    "features_path = os.path.expanduser(\"../tiled_polybench_lin_alg/features.csv\")\n",
    "runtimes_path = os.path.expanduser(\"../tiled_polybench_lin_alg/runtimes.csv\")\n",
    "\n",
    "features_df = pd.read_csv(features_path)\n",
    "runtimes_df = pd.read_csv(runtimes_path)\n",
    "runtimes_df.info()\n",
    "features_df.info()"
   ]
  },
  {
   "cell_type": "code",
   "execution_count": 4,
   "id": "47616ec8",
   "metadata": {},
   "outputs": [
    {
     "name": "stdout",
     "output_type": "stream",
     "text": [
      "<class 'pandas.core.frame.DataFrame'>\n",
      "Int64Index: 168 entries, 586 to 856\n",
      "Data columns (total 12 columns):\n",
      " #   Column                Non-Null Count  Dtype  \n",
      "---  ------                --------------  -----  \n",
      " 0   uniqueFilename        168 non-null    object \n",
      " 1   rootFilename          168 non-null    object \n",
      " 2   tileSize              168 non-null    int64  \n",
      " 3   readInvariant         168 non-null    int64  \n",
      " 4   readPrefetched        168 non-null    int64  \n",
      " 5   readNonPrefetched     168 non-null    int64  \n",
      " 6   writeInvariant        168 non-null    int64  \n",
      " 7   writePrefetched       168 non-null    int64  \n",
      " 8   writeNonPrefetched    168 non-null    int64  \n",
      " 9   distToDominatingLoop  168 non-null    int64  \n",
      " 10  avgRuntime            168 non-null    float64\n",
      " 11  uniqueLoopId          168 non-null    object \n",
      "dtypes: float64(1), int64(8), object(3)\n",
      "memory usage: 17.1+ KB\n"
     ]
    }
   ],
   "source": [
    "# clean up some generation artifacts and get average runtimes\n",
    "runtimes_df['uniqueFilename'] = runtimes_df.uniqueFilename.str.rstrip('.out')\n",
    "runtimes_df = runtimes_df[runtimes_df.uniqueFilename.str.endswith(\"_0\")==False]\n",
    "runtimes_df['avgRuntime'] = runtimes_df[['run1','run2','run3','run4']].mean(axis=1)\n",
    "features_df = features_df[features_df.uniqueFilename.str.endswith(\"_0\")==False]\n",
    "features_df = features_df[features_df.uniqueFilename.str.endswith(\"_0\")==False]\n",
    "\n",
    "# merge the features and average runtimes together\n",
    "merged_df = features_df.merge(runtimes_df[['uniqueFilename', 'avgRuntime']])\n",
    "\n",
    "# get the fastest tile size for each unique loop\n",
    "merged_df['uniqueLoopId'] = merged_df.uniqueFilename.str.split(pat='_').str[:3].str.join('_')\n",
    "merged_df = merged_df.sort_values(['uniqueLoopId','avgRuntime'],ascending=True).groupby('uniqueLoopId').head(1)\n",
    "\n",
    "# drop programs that predict tile size 0\n",
    "# merged_df = merged_df[merged_df.tileSize != 1]\n",
    "\n",
    "merged_df.info()\n",
    "# merged_df.groupby('tileSize').count()\n",
    "# print(plot_data.isnull().sum())\n",
    "# sns.pairplot(merged_df.iloc[:, 3:10])\n",
    "# plt.show()"
   ]
  },
  {
   "cell_type": "markdown",
   "id": "942494b8",
   "metadata": {},
   "source": [
    "## Train models"
   ]
  },
  {
   "cell_type": "code",
   "execution_count": 5,
   "id": "f92360a1",
   "metadata": {},
   "outputs": [],
   "source": [
    "# prep data for training\n",
    "X = merged_df.iloc[:, 3:10]\n",
    "#X = (X-X.mean())/X.std()\n",
    "y = merged_df.tileSize\n",
    "\n",
    "X_train, X_test, y_train, y_test = train_test_split(X, y, stratify=y, test_size=0.9, random_state=1)"
   ]
  },
  {
   "cell_type": "code",
   "execution_count": 6,
   "id": "43b69e59",
   "metadata": {},
   "outputs": [
    {
     "name": "stdout",
     "output_type": "stream",
     "text": [
      "The r2 is:  0.0045406819277856725\n",
      "The rmse is:  87.3723935316799\n",
      "[65.27272727 45.66666667 64.5        64.5        65.27272727 84.87878788\n",
      " 65.27272727 65.27272727 45.66666667 65.27272727 65.27272727 65.27272727\n",
      " 45.66666667 65.27272727 65.27272727 45.66666667 84.87878788 45.66666667\n",
      " 65.27272727 64.5        64.5        65.27272727 65.27272727 65.27272727\n",
      " 65.27272727 65.27272727 65.27272727 65.27272727 45.66666667 64.5\n",
      " 84.87878788 65.27272727 45.66666667 65.27272727 65.27272727 64.5\n",
      " 65.27272727 65.27272727 65.27272727 65.27272727 65.27272727 45.66666667\n",
      " 45.66666667 84.87878788 84.87878788 65.27272727 65.27272727 64.5\n",
      " 45.66666667 45.66666667 64.5        65.27272727 65.27272727 65.27272727\n",
      " 65.27272727 45.66666667 65.27272727 45.66666667 84.87878788 65.27272727\n",
      " 45.66666667 45.66666667 65.27272727 65.27272727 45.66666667 65.27272727\n",
      " 64.5        84.87878788 65.27272727 83.33333333 45.66666667 64.5\n",
      " 65.27272727 65.27272727 45.66666667 65.27272727 45.66666667 65.27272727\n",
      " 65.27272727 65.27272727 64.5        65.27272727 65.27272727 45.66666667\n",
      " 84.87878788 45.66666667 65.27272727 84.87878788 65.27272727 83.33333333\n",
      " 84.87878788 45.66666667 45.66666667 65.27272727 45.66666667 64.5\n",
      " 45.66666667 65.27272727 64.5        65.27272727 65.27272727 65.27272727\n",
      " 65.27272727 65.27272727 64.5        65.27272727 65.27272727 64.5\n",
      " 65.27272727 65.27272727 84.87878788 45.66666667 84.87878788 45.66666667\n",
      " 45.66666667 65.27272727 65.27272727 65.27272727 45.66666667 64.5\n",
      " 65.27272727 84.87878788 65.27272727 64.5        45.66666667 64.5\n",
      " 65.27272727 65.27272727 45.66666667 64.5        64.5        45.66666667\n",
      " 45.66666667 65.27272727 64.5        65.27272727 83.33333333 65.27272727\n",
      " 45.66666667 65.27272727 45.66666667 65.27272727 45.66666667 45.66666667\n",
      " 65.27272727 65.27272727 64.5        64.5        84.87878788 45.66666667\n",
      " 45.66666667 65.27272727]\n"
     ]
    }
   ],
   "source": [
    "# linear regression\n",
    "\n",
    "lin_reg = LinearRegression(positive=True)\n",
    "lin_reg.fit(X_train,y_train)\n",
    "predictions = lin_reg.predict(X_test)\n",
    "r2 = r2_score(y_test, predictions)\n",
    "rmse = mean_squared_error(y_test, predictions, squared=False)\n",
    "\n",
    "print('The r2 is: ', r2)\n",
    "print('The rmse is: ', rmse)\n",
    "print(predictions)"
   ]
  },
  {
   "cell_type": "code",
   "execution_count": 7,
   "id": "535c157f",
   "metadata": {},
   "outputs": [
    {
     "name": "stdout",
     "output_type": "stream",
     "text": [
      "Accuracy: 0.21710526315789475\n",
      "[ 64   8 128 128 256  64  64   4   1  64   4 256   8  16  64   8  64   1\n",
      "   4   1   1  16   4 256   1  64 256   4 256 128 256  64   1  16  64 128\n",
      "  64 256 256  64  64   1   1 256 256  64 256 128   1   1   1  64 256  16\n",
      " 256   1   4 128 256 256 256   1  16  64   1 256 128  64  16 128   1   1\n",
      "   4  16   8   4   1 256   4 256 128  64 256   1  64   1  64  64  64   1\n",
      " 256   8   1  16   1 128 256 256   1  64  16  64 256  16 128 256 256 128\n",
      "  16  64 256   1  64 128   1 256 256  64   1 128   4  64  16 128   1   1\n",
      "   4 256   1 128 128   1   8 256 128  64 128  64 128   1   1 256 256 256\n",
      "  64 256   1   1 256   8   8  16]\n"
     ]
    }
   ],
   "source": [
    "# random forest\n",
    "\n",
    "forest = RandomForestClassifier(n_estimators=500, random_state=888)\n",
    "forest.fit(X_train,y_train)\n",
    "predictions = forest.predict(X_test)\n",
    "\n",
    "print(\"Accuracy:\", metrics.accuracy_score(y_test, predictions))\n",
    "print(predictions)"
   ]
  },
  {
   "cell_type": "code",
   "execution_count": 8,
   "id": "d371b06e",
   "metadata": {},
   "outputs": [
    {
     "name": "stdout",
     "output_type": "stream",
     "text": [
      "The r2 is:  -0.2907023987878641\n",
      "The rmse is:  99.48910722437253\n",
      "[16.94437759 15.20942326 15.87397931 15.87397931 16.34135078 16.53863211\n",
      " 16.94437759 14.97219919 15.96270413 16.94437759 14.97219919 16.34135078\n",
      " 15.22145134 15.99999998 16.94437759 15.13044379 16.53863211 15.96270413\n",
      " 14.97219919 14.8413059  14.8413059  15.69579947 14.97219919 16.34135078\n",
      " 15.00296343 16.94437759 16.34135078 14.97219919 15.06562611 15.56221343\n",
      " 16.1287189  16.94437759 15.83462052 15.99999998 16.94437759 15.71203664\n",
      " 16.94437759 16.34135078 16.34135078 16.94437759 16.94437759 15.00296343\n",
      " 15.83462052 16.1287189  16.1287189  16.94437759 16.34135078 15.56221343\n",
      " 14.64453462 15.83462052 14.8413059  16.94437759 16.34135078 15.99999998\n",
      " 16.34135078 14.89740049 14.97219919 15.86727969 16.1287189  16.34135078\n",
      " 15.58284157 15.30798389 15.99999998 16.94437759 15.00296343 16.34135078\n",
      " 15.87397931 16.53863211 15.99999998 15.40842411 15.83462052 14.88291833\n",
      " 14.97219919 15.99999998 15.19362066 14.97219919 14.64453462 16.34135078\n",
      " 14.97219919 16.34135078 15.43596321 16.94437759 16.34135078 14.89740049\n",
      " 16.53863211 14.64453462 16.94437759 16.53863211 16.94437759 15.386581\n",
      " 16.1287189  14.9739219  15.00296343 15.99999998 15.00296343 15.56221343\n",
      " 15.06562611 16.34135078 14.88291833 16.94437759 15.99999998 16.94437759\n",
      " 16.34135078 15.30798389 15.56221343 16.34135078 16.34135078 15.87397931\n",
      " 15.99999998 16.94437759 16.1287189  15.00296343 16.53863211 15.58284157\n",
      " 15.69579947 16.34135078 16.34135078 16.94437759 15.00296343 15.87397931\n",
      " 14.97219919 16.53863211 15.99999998 15.56221343 14.64453462 14.8413059\n",
      " 14.97219919 16.34135078 15.00296343 15.71203664 15.87397931 15.30798389\n",
      " 14.71104172 16.34135078 15.43596321 16.94437759 15.40163714 16.94437759\n",
      " 15.58284157 14.64453462 15.30798389 16.34135078 15.58284157 15.15690327\n",
      " 16.94437759 16.34135078 14.98605201 14.8413059  16.1287189  14.92544749\n",
      " 15.55901998 15.99999998]\n"
     ]
    }
   ],
   "source": [
    "# support vector machine regression\n",
    "\n",
    "support = svm.SVR()\n",
    "support.fit(X_train,y_train)\n",
    "predictions = support.predict(X_test)\n",
    "r2 = r2_score(y_test, predictions)\n",
    "rmse = mean_squared_error(y_test, predictions, squared=False)\n",
    "\n",
    "print('The r2 is: ', r2)\n",
    "print('The rmse is: ', rmse)\n",
    "print(predictions)"
   ]
  },
  {
   "cell_type": "code",
   "execution_count": 9,
   "id": "e1f206c0",
   "metadata": {},
   "outputs": [
    {
     "name": "stdout",
     "output_type": "stream",
     "text": [
      "Accuracy: 0.2565789473684211\n",
      "[1 1 1 1 1 1 1 1 1 1 1 1 1 1 1 1 1 1 1 1 1 1 1 1 1 1 1 1 1 1 1 1 1 1 1 1 1\n",
      " 1 1 1 1 1 1 1 1 1 1 1 1 1 1 1 1 1 1 1 1 1 1 1 1 1 1 1 1 1 1 1 1 1 1 1 1 1\n",
      " 1 1 1 1 1 1 1 1 1 1 1 1 1 1 1 1 1 1 1 1 1 1 1 1 1 1 1 1 1 1 1 1 1 1 1 1 1\n",
      " 1 1 1 1 1 1 1 1 1 1 1 1 1 1 1 1 1 1 1 1 1 1 1 1 1 1 1 1 1 1 1 1 1 1 1 1 1\n",
      " 1 8 1 1]\n"
     ]
    }
   ],
   "source": [
    "# support vector machine classifier\n",
    "\n",
    "support = svm.SVC()\n",
    "support.fit(X_train,y_train)\n",
    "predictions = support.predict(X_test)\n",
    "r2 = r2_score(y_test, predictions)\n",
    "rmse = mean_squared_error(y_test, predictions, squared=False)\n",
    "\n",
    "print(\"Accuracy:\", metrics.accuracy_score(y_test, predictions))\n",
    "print(predictions)"
   ]
  },
  {
   "cell_type": "code",
   "execution_count": 14,
   "id": "268a123b",
   "metadata": {},
   "outputs": [
    {
     "name": "stdout",
     "output_type": "stream",
     "text": [
      "Accuracy: 0.2236842105263158\n",
      "[ 64   8 128 128 256 256  64   8   1  64   8 256   8  16  64   8 256   1\n",
      "   8   1   1  16   8 256   8  64 256   8   8 128 256  64 128  16  64 128\n",
      "  64 256 256  64  64   1 128 256 256  64 256 128   1 128   1  64 256  16\n",
      " 256   1   8 128 256 256   1   1  16  64   1 256 128 256  16   1 128   1\n",
      "   8  16   8   8   1 256   8 256   1  64 256   1 256   1  64 256  64   1\n",
      " 256   8   1  16   1 128   8 256   1  64  16  64 256   1 128 256 256 128\n",
      "  16  64 256   1 256   1   1 256 256  64   1 128   8 256  16 128   1   1\n",
      "   8 256   1 128 128   1   8 256   1  64   1  64   1   8   1 256   1   8\n",
      "  64 256   1   1 256 128   1  16]\n"
     ]
    }
   ],
   "source": [
    "# multi-layer perceptron\n",
    "\n",
    "mlp = MLPClassifier(random_state=1, max_iter=10000, hidden_layer_sizes=(20,))\n",
    "mlp.fit(X_train,y_train)\n",
    "predictions = mlp.predict(X_test)\n",
    "\n",
    "print(\"Accuracy:\", mlp.score(X_test, y_test))\n",
    "print(predictions)"
   ]
  },
  {
   "cell_type": "code",
   "execution_count": null,
   "id": "97530181",
   "metadata": {},
   "outputs": [],
   "source": []
  }
 ],
 "metadata": {
  "kernelspec": {
   "display_name": "Python 3 (ipykernel)",
   "language": "python",
   "name": "python3"
  },
  "language_info": {
   "codemirror_mode": {
    "name": "ipython",
    "version": 3
   },
   "file_extension": ".py",
   "mimetype": "text/x-python",
   "name": "python",
   "nbconvert_exporter": "python",
   "pygments_lexer": "ipython3",
   "version": "3.8.10"
  }
 },
 "nbformat": 4,
 "nbformat_minor": 5
}
