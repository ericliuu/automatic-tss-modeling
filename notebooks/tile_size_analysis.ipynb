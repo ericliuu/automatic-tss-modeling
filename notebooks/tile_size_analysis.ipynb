{
 "cells": [
  {
   "cell_type": "code",
   "execution_count": 1,
   "id": "12165c9c",
   "metadata": {},
   "outputs": [],
   "source": [
    "import os\n",
    "import sys\n",
    "\n",
    "import pandas as pd\n",
    "import numpy as np\n",
    "\n",
    "from sklearn.linear_model import LinearRegression\n",
    "from sklearn.preprocessing import StandardScaler"
   ]
  },
  {
   "cell_type": "code",
   "execution_count": 7,
   "id": "a3364e17",
   "metadata": {},
   "outputs": [
    {
     "name": "stdout",
     "output_type": "stream",
     "text": [
      "/home/vmuser/tiled_polybench_copy/features.csv\r\n"
     ]
    }
   ],
   "source": [
    "!ls ~/tiled_polybench_copy/features.csv"
   ]
  },
  {
   "cell_type": "code",
   "execution_count": 9,
   "id": "27d10418",
   "metadata": {},
   "outputs": [],
   "source": [
    "dataset_path = os.path.expanduser(\"~/tiled_polybench_copy/features.csv\")\n",
    "df = pd.read_csv(dataset_path)"
   ]
  },
  {
   "cell_type": "code",
   "execution_count": 10,
   "id": "47616ec8",
   "metadata": {},
   "outputs": [
    {
     "name": "stdout",
     "output_type": "stream",
     "text": [
      "<class 'pandas.core.frame.DataFrame'>\n",
      "RangeIndex: 393 entries, 0 to 392\n",
      "Data columns (total 10 columns):\n",
      " #   Column                Non-Null Count  Dtype \n",
      "---  ------                --------------  ----- \n",
      " 0   uniqueFilename        393 non-null    object\n",
      " 1   rootFilename          393 non-null    object\n",
      " 2   tileSize              393 non-null    int64 \n",
      " 3   readInvariant         393 non-null    int64 \n",
      " 4   readPrefetched        393 non-null    int64 \n",
      " 5   readNonPrefetched     393 non-null    int64 \n",
      " 6   writeInvariant        393 non-null    int64 \n",
      " 7   writePrefetched       393 non-null    int64 \n",
      " 8   writeNonPrefetched    393 non-null    int64 \n",
      " 9   distToDominatingLoop  393 non-null    int64 \n",
      "dtypes: int64(8), object(2)\n",
      "memory usage: 30.8+ KB\n"
     ]
    }
   ],
   "source": [
    "df.info()"
   ]
  }
 ],
 "metadata": {
  "kernelspec": {
   "display_name": "Python 3 (ipykernel)",
   "language": "python",
   "name": "python3"
  },
  "language_info": {
   "codemirror_mode": {
    "name": "ipython",
    "version": 3
   },
   "file_extension": ".py",
   "mimetype": "text/x-python",
   "name": "python",
   "nbconvert_exporter": "python",
   "pygments_lexer": "ipython3",
   "version": "3.8.10"
  }
 },
 "nbformat": 4,
 "nbformat_minor": 5
}
