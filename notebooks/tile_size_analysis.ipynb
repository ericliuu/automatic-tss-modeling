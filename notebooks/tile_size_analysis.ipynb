{
 "cells": [
  {
   "cell_type": "code",
   "execution_count": 4,
   "id": "12165c9c",
   "metadata": {},
   "outputs": [],
   "source": [
    "import os\n",
    "import sys\n",
    "\n",
    "import pandas as pd\n",
    "import numpy as np\n",
    "\n",
    "from sklearn.linear_model import LinearRegression\n",
    "from sklearn.preprocessing import StandardScaler"
   ]
  },
  {
   "cell_type": "code",
   "execution_count": 5,
   "id": "a3364e17",
   "metadata": {},
   "outputs": [
    {
     "name": "stdout",
     "output_type": "stream",
     "text": [
      "/home/vmuser/tiled_polybench/features.csv\n",
      "/home/vmuser/tiled_polybench_lin_alg/runtimes.csv\n"
     ]
    }
   ],
   "source": [
    "!ls ~/tiled_polybench/features.csv\n",
    "!ls ~/tiled_polybench_lin_alg/runtimes.csv"
   ]
  },
  {
   "cell_type": "code",
   "execution_count": 6,
   "id": "27d10418",
   "metadata": {},
   "outputs": [],
   "source": [
    "#dataset_path = os.path.expanduser(\"~/tiled_polybench_copy/features.csv\")\n",
    "dataset_path = os.path.expanduser(\"~/tiled_polybench_lin_alg/runtimes.csv\")\n",
    "df = pd.read_csv(dataset_path)"
   ]
  },
  {
   "cell_type": "code",
   "execution_count": 7,
   "id": "47616ec8",
   "metadata": {},
   "outputs": [
    {
     "name": "stdout",
     "output_type": "stream",
     "text": [
      "<class 'pandas.core.frame.DataFrame'>\n",
      "RangeIndex: 2 entries, 0 to 1\n",
      "Data columns (total 5 columns):\n",
      " #   Column          Non-Null Count  Dtype  \n",
      "---  ------          --------------  -----  \n",
      " 0   uniqueFilename  2 non-null      object \n",
      " 1   run1            2 non-null      float64\n",
      " 2   run2            2 non-null      float64\n",
      " 3   run3            2 non-null      float64\n",
      " 4   run4            2 non-null      float64\n",
      "dtypes: float64(4), object(1)\n",
      "memory usage: 208.0+ bytes\n"
     ]
    }
   ],
   "source": [
    "df.info()"
   ]
  },
  {
   "cell_type": "code",
   "execution_count": null,
   "id": "f92360a1",
   "metadata": {},
   "outputs": [],
   "source": []
  }
 ],
 "metadata": {
  "kernelspec": {
   "display_name": "Python 3 (ipykernel)",
   "language": "python",
   "name": "python3"
  },
  "language_info": {
   "codemirror_mode": {
    "name": "ipython",
    "version": 3
   },
   "file_extension": ".py",
   "mimetype": "text/x-python",
   "name": "python",
   "nbconvert_exporter": "python",
   "pygments_lexer": "ipython3",
   "version": "3.8.10"
  }
 },
 "nbformat": 4,
 "nbformat_minor": 5
}
